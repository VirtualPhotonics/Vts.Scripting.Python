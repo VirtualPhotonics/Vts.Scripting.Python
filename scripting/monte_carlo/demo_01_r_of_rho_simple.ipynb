{
 "cells": [
  {
   "cell_type": "code",
   "execution_count": null,
   "metadata": {},
   "outputs": [],
   "source": [
    "import os\n",
    "current_directory = os.getcwd()\n",
    "publish_local = current_directory.replace(\"monte_carlo\", \"libraries\\Vts.dll\")"
   ]
  },
  {
   "cell_type": "code",
   "execution_count": null,
   "metadata": {},
   "outputs": [],
   "source": [
    "pip install pythonnet plotly numpy"
   ]
  },
  {
   "cell_type": "code",
   "execution_count": null,
   "metadata": {},
   "outputs": [],
   "source": [
    "from pythonnet import set_runtime\n",
    "set_runtime(\"coreclr\")\n",
    "import clr\n",
    "clr.AddReference(publish_local) # Copy the VTS dlls into the libraries folders\n",
    "import numpy as np\n",
    "import plotly.graph_objects as go\n",
    "import plotly.express as px\n",
    "from Vts import *\n",
    "from Vts.Common import *\n",
    "from Vts.Extensions import *\n",
    "from Vts.Modeling.Optimizers import *\n",
    "from Vts.Modeling.ForwardSolvers import *\n",
    "from Vts.SpectralMapping import *\n",
    "from Vts.Factories import *\n",
    "from Vts.MonteCarlo import *\n",
    "from Vts.MonteCarlo.Sources import *\n",
    "from Vts.MonteCarlo.Tissues import *\n",
    "from Vts.MonteCarlo.Detectors import *\n",
    "from Vts.MonteCarlo.Factories import *\n",
    "from Vts.MonteCarlo.PhotonData import *\n",
    "from Vts.MonteCarlo.PostProcessing import *\n",
    "from System import Array"
   ]
  },
  {
   "cell_type": "code",
   "execution_count": null,
   "metadata": {},
   "outputs": [],
   "source": [
    "# create a SimulationInput object to define the simulation\n",
    "detectorRange = DoubleRange(start=0, stop=40, number=201)\n",
    "detectorInput = ROfRhoDetectorInput()\n",
    "detectorInput.Rho = detectorRange\n",
    "detectorInput.Name = \"ROfRho\"\n",
    "detectors = Array.CreateInstance(IDetectorInput,1)\n",
    "detectors[0] = detectorInput\n",
    "\n",
    "simulationInput = SimulationInput()\n",
    "simulationInput.N=1000\n",
    "simulationInput.DetectorInputs= detectors\n",
    "\n",
    "# create the simulation\n",
    "simulation = MonteCarloSimulation(simulationInput)\n",
    "\n",
    "# run the simulation\n",
    "simulationOutput = simulation.Run()\n",
    "\n",
    "# plot the results using Plotly\n",
    "detectorResults = Array.CreateInstance(ROfRhoDetector,1)\n",
    "detectorResults[0] = simulationOutput.ResultsDictionary[\"ROfRho\"]\n",
    "logReflectance = [r for r in detectorResults[0].Mean]\n",
    "detectorMidpoints = [mp for mp in detectorRange.AsEnumerable()]\n",
    "\n",
    "xLabel = \"ρ [mm]\"\n",
    "yLabel = \"log(R(ρ)) [mm-2]\"\n",
    "\n",
    "chart = go.Figure()\n",
    "chart.add_trace(go.Scatter(x=detectorMidpoints, y=logReflectance, mode='lines+markers'))\n",
    "chart.update_layout( title=\"log(R(ρ)) [mm-2]\", xaxis_title=xLabel, yaxis_title=yLabel)\n",
    "chart.update_yaxes(type=\"log\")\n",
    "chart.show()\n"
   ]
  },
  {
   "cell_type": "code",
   "execution_count": null,
   "metadata": {},
   "outputs": [],
   "source": []
  }
 ],
 "metadata": {
  "kernelspec": {
   "display_name": "Python 3 (ipykernel)",
   "language": "python",
   "name": "python3"
  },
  "language_info": {
   "codemirror_mode": {
    "name": "ipython",
    "version": 3
   },
   "file_extension": ".py",
   "mimetype": "text/x-python",
   "name": "python",
   "nbconvert_exporter": "python",
   "pygments_lexer": "ipython3",
   "version": "3.11.5"
  }
 },
 "nbformat": 4,
 "nbformat_minor": 2
}
