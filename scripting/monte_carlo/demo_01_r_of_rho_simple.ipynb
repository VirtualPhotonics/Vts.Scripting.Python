{
 "cells": [
  {
   "cell_type": "markdown",
   "metadata": {},
   "source": [
    "Import the Operating System so we can access the files for the VTS library\n",
    "\n",
    "Before we can run the Python code we need to download the latest zip file from the downloads and put the dll files into the libraries folder."
   ]
  },
  {
   "cell_type": "code",
   "execution_count": null,
   "metadata": {},
   "outputs": [],
   "source": [
    "import os\n",
    "current_directory = os.getcwd()\n",
    "publish_local = current_directory.replace(\"monte_carlo\", \"libraries\\Vts.dll\")"
   ]
  },
  {
   "cell_type": "markdown",
   "metadata": {},
   "source": [
    "Use pip to install PythonNet Plotly and Numpy"
   ]
  },
  {
   "cell_type": "code",
   "execution_count": null,
   "metadata": {},
   "outputs": [],
   "source": [
    "pip install pythonnet plotly numpy"
   ]
  },
  {
   "cell_type": "markdown",
   "metadata": {},
   "source": [
    "Import the Core CLR runtime from PythonNet and add the reference for the VTS library and its dependencies\n",
    "\n",
    "Import the namespaces from the Python libraries and the VTS library"
   ]
  },
  {
   "cell_type": "code",
   "execution_count": null,
   "metadata": {},
   "outputs": [],
   "source": [
    "from pythonnet import set_runtime\n",
    "set_runtime(\"coreclr\")\n",
    "import clr\n",
    "clr.AddReference(publish_local) # Copy the VTS dlls into the libraries folders\n",
    "import numpy as np\n",
    "import plotly.graph_objects as go\n",
    "import plotly.express as px\n",
    "from Vts import *\n",
    "from Vts.Common import *\n",
    "from Vts.Extensions import *\n",
    "from Vts.Modeling.Optimizers import *\n",
    "from Vts.Modeling.ForwardSolvers import *\n",
    "from Vts.SpectralMapping import *\n",
    "from Vts.Factories import *\n",
    "from Vts.MonteCarlo import *\n",
    "from Vts.MonteCarlo.Sources import *\n",
    "from Vts.MonteCarlo.Tissues import *\n",
    "from Vts.MonteCarlo.Detectors import *\n",
    "from Vts.MonteCarlo.Factories import *\n",
    "from Vts.MonteCarlo.PhotonData import *\n",
    "from Vts.MonteCarlo.PostProcessing import *\n",
    "from System import Array"
   ]
  },
  {
   "cell_type": "markdown",
   "metadata": {},
   "source": [
    "Setup the values for the simulations and plot the results using Plotly\n",
    "\n",
    "ROfRho"
   ]
  },
  {
   "cell_type": "code",
   "execution_count": null,
   "metadata": {},
   "outputs": [],
   "source": [
    "# create a SimulationInput object to define the simulation\n",
    "detectorRange = DoubleRange(start=0, stop=40, number=201)\n",
    "detectorInput = ROfRhoDetectorInput()\n",
    "detectorInput.Rho = detectorRange\n",
    "detectorInput.Name = \"ROfRho\"\n",
    "detectors = Array.CreateInstance(IDetectorInput,1)\n",
    "detectors[0] = detectorInput\n",
    "\n",
    "simulationInput = SimulationInput()\n",
    "simulationInput.N=1000\n",
    "simulationInput.DetectorInputs= detectors\n",
    "\n",
    "# create the simulation\n",
    "simulation = MonteCarloSimulation(simulationInput)\n",
    "\n",
    "# run the simulation\n",
    "simulationOutput = simulation.Run()\n",
    "\n",
    "# plot the results using Plotly\n",
    "detectorResults = Array.CreateInstance(ROfRhoDetector,1)\n",
    "detectorResults[0] = simulationOutput.ResultsDictionary[\"ROfRho\"]\n",
    "logReflectance = [r for r in detectorResults[0].Mean]\n",
    "detectorMidpoints = [mp for mp in detectorRange.AsEnumerable()]\n",
    "\n",
    "xLabel = \"ρ [mm]\"\n",
    "yLabel = \"log(R(ρ)) [mm-2]\"\n",
    "\n",
    "chart = go.Figure()\n",
    "chart.add_trace(go.Scatter(x=detectorMidpoints, y=logReflectance, mode='markers'))\n",
    "chart.update_layout( title=\"log(R(ρ)) [mm-2]\", xaxis_title=xLabel, yaxis_title=yLabel)\n",
    "chart.update_yaxes(type=\"log\")\n",
    "chart.show()\n"
   ]
  },
  {
   "cell_type": "markdown",
   "metadata": {},
   "source": [
    "DAW vs CAW"
   ]
  },
  {
   "cell_type": "code",
   "execution_count": null,
   "metadata": {},
   "outputs": [],
   "source": [
    "# Setup the detector input for the simulation\n",
    "detectorRange = DoubleRange(start=0, stop=40, number=201)\n",
    "detectorInput = ROfRhoDetectorInput()\n",
    "detectorInput.Rho = detectorRange\n",
    "detectorInput.Name = \"ROfRho\"\n",
    "detectors = Array.CreateInstance(IDetectorInput,1)\n",
    "detectors[0] = detectorInput\n",
    "\n",
    "simulationOptions1 = SimulationOptions()\n",
    "simulationOptions1.AbsorptionWeightingType = AbsorptionWeightingType.Discrete\n",
    "# create a SimulationInput object to define the simulation\n",
    "simulationInput1 = SimulationInput()\n",
    "simulationInput1.N=1000\n",
    "simulationInput1.OutputName = \"MonteCarloROfRho-DAW\"\n",
    "simulationInput1.DetectorInputs= detectors\n",
    "simulationInput1.Options = simulationOptions1\n",
    "\n",
    "simulationOptions2 = SimulationOptions()\n",
    "simulationOptions2.AbsorptionWeightingType = AbsorptionWeightingType.Continuous\n",
    "# create a SimulationInput object to define the simulation\n",
    "simulationInput2 = SimulationInput()\n",
    "simulationInput2.N=1000\n",
    "simulationInput2.OutputName = \"MonteCarloROfRho-CAW\"\n",
    "simulationInput2.DetectorInputs = detectors\n",
    "simulationInput2.Options = simulationOptions2\n",
    "\n",
    "# create the simulations\n",
    "simulation1 = MonteCarloSimulation(simulationInput1)\n",
    "simulation2 = MonteCarloSimulation(simulationInput2)\n",
    "\n",
    "# run the simulations\n",
    "simulationOutput1 = simulation1.Run()\n",
    "simulationOutput2 = simulation2.Run()\n",
    "\n",
    "# plot the results using Plotly\n",
    "detectorResults1 = Array.CreateInstance(ROfRhoDetector,1)\n",
    "detectorResults1[0] = simulationOutput1.ResultsDictionary[\"ROfRho\"]\n",
    "logReflectance1 = [r for r in detectorResults1[0].Mean]\n",
    "detectorMidpoints1 = [mp for mp in detectorRange.AsEnumerable()]\n",
    "\n",
    "detectorResults2 = Array.CreateInstance(ROfRhoDetector,1)\n",
    "detectorResults2[0] = simulationOutput2.ResultsDictionary[\"ROfRho\"]\n",
    "logReflectance2 = [r for r in detectorResults[0].Mean]\n",
    "detectorMidpoints2 = [mp for mp in detectorRange.AsEnumerable()]\n",
    "\n",
    "xLabel = \"ρ [mm]\"\n",
    "yLabel = \"log(R(ρ)) [mm-2]\"\n",
    "\n",
    "chart = go.Figure()\n",
    "chart.add_trace(go.Scatter(x=detectorMidpoints1, y=logReflectance1, mode='markers', name='log(R(ρ)) [mm-2] - DAW'))\n",
    "chart.add_trace(go.Scatter(x=detectorMidpoints2, y=logReflectance2, mode='markers', name='log(R(ρ)) [mm-2] - CAW'))\n",
    "chart.update_layout( title=\"DAW vs CAW\", xaxis_title=xLabel, yaxis_title=yLabel)\n",
    "chart.update_yaxes(type=\"log\")\n",
    "chart.show()"
   ]
  },
  {
   "cell_type": "code",
   "execution_count": null,
   "metadata": {},
   "outputs": [],
   "source": []
  }
 ],
 "metadata": {
  "kernelspec": {
   "display_name": "Python 3 (ipykernel)",
   "language": "python",
   "name": "python3"
  },
  "language_info": {
   "codemirror_mode": {
    "name": "ipython",
    "version": 3
   },
   "file_extension": ".py",
   "mimetype": "text/x-python",
   "name": "python",
   "nbconvert_exporter": "python",
   "pygments_lexer": "ipython3",
   "version": "3.11.5"
  }
 },
 "nbformat": 4,
 "nbformat_minor": 2
}
