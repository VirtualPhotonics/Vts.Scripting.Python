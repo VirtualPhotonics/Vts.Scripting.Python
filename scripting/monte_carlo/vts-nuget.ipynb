{
 "cells": [
  {
   "cell_type": "markdown",
   "id": "84112efc-18ab-43cf-bded-faa619b5b254",
   "metadata": {},
   "source": [
    "# Using nuget VTS in JupyterLab\n",
    "\n",
    "**Scott Prahl**\n",
    "\n",
    "**April 2024**\n",
    "\n",
    "The idea is to install `vts` using `nuget`\n",
    "\n",
    "    nuget install VirtualPhotonics.Vts\n",
    "    \n",
    "so the entire VTS github repo does not need to be cloned.  It currently fails."
   ]
  },
  {
   "cell_type": "code",
   "execution_count": 1,
   "id": "f8b6e254-29a8-4114-aae3-cc26af412646",
   "metadata": {},
   "outputs": [
    {
     "name": "stdout",
     "output_type": "stream",
     "text": [
      "stats for: /Users/prahl/Documents/Code/git/vts/publish/local/Vts.dll\n",
      "file size is  10562560\n",
      "File:             /Users/prahl/Documents/Code/git/vts/publish/local/Vts.dll\n",
      "InternalName:     Vts.dll\n",
      "OriginalFilename: Vts.dll\n",
      "FileVersion:      10.0.0.0\n",
      "FileDescription:  Vts\n",
      "Product:          Vts\n",
      "ProductVersion:   10.0.0\n",
      "Debug:            False\n",
      "Patched:          False\n",
      "PreRelease:       False\n",
      "PrivateBuild:     False\n",
      "SpecialBuild:     False\n",
      "Language:         Language Neutral\n",
      "\n",
      "stats for: /Users/prahl/vts/VirtualPhotonics.Vts.10.0.0/lib/net6.0/Vts.dll\n",
      "file size is  10601984\n",
      "File:             /Users/prahl/vts/VirtualPhotonics.Vts.10.0.0/lib/net6.0/Vts.dll\n",
      "InternalName:     Vts.dll\n",
      "OriginalFilename: Vts.dll\n",
      "FileVersion:      10.0.0.0\n",
      "FileDescription:  Vts\n",
      "Product:          Vts\n",
      "ProductVersion:   10.0.0\n",
      "Debug:            False\n",
      "Patched:          False\n",
      "PreRelease:       False\n",
      "PrivateBuild:     False\n",
      "SpecialBuild:     False\n",
      "Language:         Language Neutral\n",
      "\n"
     ]
    },
    {
     "ename": "ModuleNotFoundError",
     "evalue": "No module named 'Vts'",
     "output_type": "error",
     "traceback": [
      "\u001b[0;31m---------------------------------------------------------------------------\u001b[0m",
      "\u001b[0;31mModuleNotFoundError\u001b[0m                       Traceback (most recent call last)",
      "Cell \u001b[0;32mIn[1], line 22\u001b[0m\n\u001b[1;32m     19\u001b[0m \u001b[38;5;66;03m# clr.AddReference(nuget_dll) # fails with ModuleNotFoundError: No module named 'Vts'\u001b[39;00m\n\u001b[1;32m     20\u001b[0m clr\u001b[38;5;241m.\u001b[39mAddReference(nuget_dll)     \u001b[38;5;66;03m# this version works\u001b[39;00m\n\u001b[0;32m---> 22\u001b[0m \u001b[38;5;28;01mfrom\u001b[39;00m \u001b[38;5;21;01mVts\u001b[39;00m \u001b[38;5;28;01mimport\u001b[39;00m \u001b[38;5;241m*\u001b[39m   \u001b[38;5;66;03m#fails\u001b[39;00m\n",
      "\u001b[0;31mModuleNotFoundError\u001b[0m: No module named 'Vts'"
     ]
    }
   ],
   "source": [
    "import os\n",
    "import clr\n",
    "import numpy as np\n",
    "import matplotlib.pyplot as plt\n",
    "from System.Diagnostics import FileVersionInfo\n",
    "\n",
    "# Vts version installed using Nuget currently fails when the next cell is executed\n",
    "nuget_dll = \"/Users/prahl/vts/VirtualPhotonics.Vts.10.0.0/lib/net6.0/Vts.dll\"\n",
    "git_dll = \"/Users/prahl/Documents/Code/git/vts/publish/local/Vts.dll\"\n",
    "\n",
    "print(\"stats for:\", git_dll)\n",
    "print(\"file size is \", os.path.getsize(git_dll))\n",
    "print(FileVersionInfo.GetVersionInfo(git_dll))\n",
    "\n",
    "print(\"stats for:\", nuget_dll)\n",
    "print(\"file size is \", os.path.getsize(nuget_dll))\n",
    "print(FileVersionInfo.GetVersionInfo(nuget_dll))\n",
    "\n",
    "# clr.AddReference(nuget_dll) # fails with ModuleNotFoundError: No module named 'Vts'\n",
    "clr.AddReference(nuget_dll)     # this version works\n",
    "\n",
    "from Vts import *   #fails"
   ]
  },
  {
   "cell_type": "code",
   "execution_count": null,
   "id": "2903573d-9156-49fa-adef-d3b61b299bca",
   "metadata": {},
   "outputs": [],
   "source": []
  }
 ],
 "metadata": {
  "kernelspec": {
   "display_name": "Python 3 (ipykernel)",
   "language": "python",
   "name": "python3"
  },
  "language_info": {
   "codemirror_mode": {
    "name": "ipython",
    "version": 3
   },
   "file_extension": ".py",
   "mimetype": "text/x-python",
   "name": "python",
   "nbconvert_exporter": "python",
   "pygments_lexer": "ipython3",
   "version": "3.12.3"
  }
 },
 "nbformat": 4,
 "nbformat_minor": 5
}
